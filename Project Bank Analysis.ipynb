{
 "cells": [
  {
   "cell_type": "markdown",
   "id": "53813e62",
   "metadata": {
    "deletable": false,
    "editable": false,
    "id": "c81daeeb"
   },
   "source": [
    "# Исследование надежности заемщиков\n"
   ]
  },
  {
   "cell_type": "markdown",
   "id": "d73b9d58",
   "metadata": {
    "deletable": false,
    "editable": false,
    "id": "827c20bf"
   },
   "source": [
    "Во второй части проекта вы выполните шаги 3 и 4. Их вручную проверит ревьюер.\n",
    "Чтобы вам не пришлось писать код заново для шагов 1 и 2, мы добавили авторские решения в ячейки с кодом. \n",
    "\n"
   ]
  },
  {
   "cell_type": "markdown",
   "id": "77c1c74a",
   "metadata": {
    "deletable": false,
    "editable": false,
    "id": "744d7639"
   },
   "source": [
    "## Откройте таблицу и изучите общую информацию о данных"
   ]
  },
  {
   "cell_type": "markdown",
   "id": "42957b93",
   "metadata": {
    "deletable": false,
    "editable": false,
    "id": "e7a14c31"
   },
   "source": [
    "**Задание 1. Импортируйте библиотеку pandas. Считайте данные из csv-файла в датафрейм и сохраните в переменную `data`. Путь к файлу:**\n",
    "\n",
    "`/datasets/data.csv`"
   ]
  },
  {
   "cell_type": "code",
   "execution_count": 1,
   "id": "9f69807d",
   "metadata": {
    "deletable": false,
    "id": "7bcf75c9"
   },
   "outputs": [],
   "source": [
    "import pandas as pd\n",
    "\n",
    "try:\n",
    "    data = pd.read_csv('/datasets/data.csv')\n",
    "except:\n",
    "    data = pd.read_csv('https://code.s3.yandex.net/datasets/data.csv')"
   ]
  },
  {
   "cell_type": "markdown",
   "id": "358cea18",
   "metadata": {
    "deletable": false,
    "editable": false,
    "id": "b8038fe3"
   },
   "source": [
    "**Задание 2. Выведите первые 20 строчек датафрейма `data` на экран.**"
   ]
  },
  {
   "cell_type": "code",
   "execution_count": 2,
   "id": "a0ce9611",
   "metadata": {
    "deletable": false,
    "id": "2a7cab99",
    "outputId": "1a8f3ef2-d323-4ec2-ddf7-89670b5944c4"
   },
   "outputs": [
    {
     "data": {
      "text/html": [
       "<div>\n",
       "<style scoped>\n",
       "    .dataframe tbody tr th:only-of-type {\n",
       "        vertical-align: middle;\n",
       "    }\n",
       "\n",
       "    .dataframe tbody tr th {\n",
       "        vertical-align: top;\n",
       "    }\n",
       "\n",
       "    .dataframe thead th {\n",
       "        text-align: right;\n",
       "    }\n",
       "</style>\n",
       "<table border=\"1\" class=\"dataframe\">\n",
       "  <thead>\n",
       "    <tr style=\"text-align: right;\">\n",
       "      <th></th>\n",
       "      <th>children</th>\n",
       "      <th>days_employed</th>\n",
       "      <th>dob_years</th>\n",
       "      <th>education</th>\n",
       "      <th>education_id</th>\n",
       "      <th>family_status</th>\n",
       "      <th>family_status_id</th>\n",
       "      <th>gender</th>\n",
       "      <th>income_type</th>\n",
       "      <th>debt</th>\n",
       "      <th>total_income</th>\n",
       "      <th>purpose</th>\n",
       "    </tr>\n",
       "  </thead>\n",
       "  <tbody>\n",
       "    <tr>\n",
       "      <th>0</th>\n",
       "      <td>1</td>\n",
       "      <td>-8437.673028</td>\n",
       "      <td>42</td>\n",
       "      <td>высшее</td>\n",
       "      <td>0</td>\n",
       "      <td>женат / замужем</td>\n",
       "      <td>0</td>\n",
       "      <td>F</td>\n",
       "      <td>сотрудник</td>\n",
       "      <td>0</td>\n",
       "      <td>253875.639453</td>\n",
       "      <td>покупка жилья</td>\n",
       "    </tr>\n",
       "    <tr>\n",
       "      <th>1</th>\n",
       "      <td>1</td>\n",
       "      <td>-4024.803754</td>\n",
       "      <td>36</td>\n",
       "      <td>среднее</td>\n",
       "      <td>1</td>\n",
       "      <td>женат / замужем</td>\n",
       "      <td>0</td>\n",
       "      <td>F</td>\n",
       "      <td>сотрудник</td>\n",
       "      <td>0</td>\n",
       "      <td>112080.014102</td>\n",
       "      <td>приобретение автомобиля</td>\n",
       "    </tr>\n",
       "    <tr>\n",
       "      <th>2</th>\n",
       "      <td>0</td>\n",
       "      <td>-5623.422610</td>\n",
       "      <td>33</td>\n",
       "      <td>Среднее</td>\n",
       "      <td>1</td>\n",
       "      <td>женат / замужем</td>\n",
       "      <td>0</td>\n",
       "      <td>M</td>\n",
       "      <td>сотрудник</td>\n",
       "      <td>0</td>\n",
       "      <td>145885.952297</td>\n",
       "      <td>покупка жилья</td>\n",
       "    </tr>\n",
       "    <tr>\n",
       "      <th>3</th>\n",
       "      <td>3</td>\n",
       "      <td>-4124.747207</td>\n",
       "      <td>32</td>\n",
       "      <td>среднее</td>\n",
       "      <td>1</td>\n",
       "      <td>женат / замужем</td>\n",
       "      <td>0</td>\n",
       "      <td>M</td>\n",
       "      <td>сотрудник</td>\n",
       "      <td>0</td>\n",
       "      <td>267628.550329</td>\n",
       "      <td>дополнительное образование</td>\n",
       "    </tr>\n",
       "    <tr>\n",
       "      <th>4</th>\n",
       "      <td>0</td>\n",
       "      <td>340266.072047</td>\n",
       "      <td>53</td>\n",
       "      <td>среднее</td>\n",
       "      <td>1</td>\n",
       "      <td>гражданский брак</td>\n",
       "      <td>1</td>\n",
       "      <td>F</td>\n",
       "      <td>пенсионер</td>\n",
       "      <td>0</td>\n",
       "      <td>158616.077870</td>\n",
       "      <td>сыграть свадьбу</td>\n",
       "    </tr>\n",
       "    <tr>\n",
       "      <th>5</th>\n",
       "      <td>0</td>\n",
       "      <td>-926.185831</td>\n",
       "      <td>27</td>\n",
       "      <td>высшее</td>\n",
       "      <td>0</td>\n",
       "      <td>гражданский брак</td>\n",
       "      <td>1</td>\n",
       "      <td>M</td>\n",
       "      <td>компаньон</td>\n",
       "      <td>0</td>\n",
       "      <td>255763.565419</td>\n",
       "      <td>покупка жилья</td>\n",
       "    </tr>\n",
       "    <tr>\n",
       "      <th>6</th>\n",
       "      <td>0</td>\n",
       "      <td>-2879.202052</td>\n",
       "      <td>43</td>\n",
       "      <td>высшее</td>\n",
       "      <td>0</td>\n",
       "      <td>женат / замужем</td>\n",
       "      <td>0</td>\n",
       "      <td>F</td>\n",
       "      <td>компаньон</td>\n",
       "      <td>0</td>\n",
       "      <td>240525.971920</td>\n",
       "      <td>операции с жильем</td>\n",
       "    </tr>\n",
       "    <tr>\n",
       "      <th>7</th>\n",
       "      <td>0</td>\n",
       "      <td>-152.779569</td>\n",
       "      <td>50</td>\n",
       "      <td>СРЕДНЕЕ</td>\n",
       "      <td>1</td>\n",
       "      <td>женат / замужем</td>\n",
       "      <td>0</td>\n",
       "      <td>M</td>\n",
       "      <td>сотрудник</td>\n",
       "      <td>0</td>\n",
       "      <td>135823.934197</td>\n",
       "      <td>образование</td>\n",
       "    </tr>\n",
       "    <tr>\n",
       "      <th>8</th>\n",
       "      <td>2</td>\n",
       "      <td>-6929.865299</td>\n",
       "      <td>35</td>\n",
       "      <td>ВЫСШЕЕ</td>\n",
       "      <td>0</td>\n",
       "      <td>гражданский брак</td>\n",
       "      <td>1</td>\n",
       "      <td>F</td>\n",
       "      <td>сотрудник</td>\n",
       "      <td>0</td>\n",
       "      <td>95856.832424</td>\n",
       "      <td>на проведение свадьбы</td>\n",
       "    </tr>\n",
       "    <tr>\n",
       "      <th>9</th>\n",
       "      <td>0</td>\n",
       "      <td>-2188.756445</td>\n",
       "      <td>41</td>\n",
       "      <td>среднее</td>\n",
       "      <td>1</td>\n",
       "      <td>женат / замужем</td>\n",
       "      <td>0</td>\n",
       "      <td>M</td>\n",
       "      <td>сотрудник</td>\n",
       "      <td>0</td>\n",
       "      <td>144425.938277</td>\n",
       "      <td>покупка жилья для семьи</td>\n",
       "    </tr>\n",
       "    <tr>\n",
       "      <th>10</th>\n",
       "      <td>2</td>\n",
       "      <td>-4171.483647</td>\n",
       "      <td>36</td>\n",
       "      <td>высшее</td>\n",
       "      <td>0</td>\n",
       "      <td>женат / замужем</td>\n",
       "      <td>0</td>\n",
       "      <td>M</td>\n",
       "      <td>компаньон</td>\n",
       "      <td>0</td>\n",
       "      <td>113943.491460</td>\n",
       "      <td>покупка недвижимости</td>\n",
       "    </tr>\n",
       "    <tr>\n",
       "      <th>11</th>\n",
       "      <td>0</td>\n",
       "      <td>-792.701887</td>\n",
       "      <td>40</td>\n",
       "      <td>среднее</td>\n",
       "      <td>1</td>\n",
       "      <td>женат / замужем</td>\n",
       "      <td>0</td>\n",
       "      <td>F</td>\n",
       "      <td>сотрудник</td>\n",
       "      <td>0</td>\n",
       "      <td>77069.234271</td>\n",
       "      <td>покупка коммерческой недвижимости</td>\n",
       "    </tr>\n",
       "    <tr>\n",
       "      <th>12</th>\n",
       "      <td>0</td>\n",
       "      <td>NaN</td>\n",
       "      <td>65</td>\n",
       "      <td>среднее</td>\n",
       "      <td>1</td>\n",
       "      <td>гражданский брак</td>\n",
       "      <td>1</td>\n",
       "      <td>M</td>\n",
       "      <td>пенсионер</td>\n",
       "      <td>0</td>\n",
       "      <td>NaN</td>\n",
       "      <td>сыграть свадьбу</td>\n",
       "    </tr>\n",
       "    <tr>\n",
       "      <th>13</th>\n",
       "      <td>0</td>\n",
       "      <td>-1846.641941</td>\n",
       "      <td>54</td>\n",
       "      <td>неоконченное высшее</td>\n",
       "      <td>2</td>\n",
       "      <td>женат / замужем</td>\n",
       "      <td>0</td>\n",
       "      <td>F</td>\n",
       "      <td>сотрудник</td>\n",
       "      <td>0</td>\n",
       "      <td>130458.228857</td>\n",
       "      <td>приобретение автомобиля</td>\n",
       "    </tr>\n",
       "    <tr>\n",
       "      <th>14</th>\n",
       "      <td>0</td>\n",
       "      <td>-1844.956182</td>\n",
       "      <td>56</td>\n",
       "      <td>высшее</td>\n",
       "      <td>0</td>\n",
       "      <td>гражданский брак</td>\n",
       "      <td>1</td>\n",
       "      <td>F</td>\n",
       "      <td>компаньон</td>\n",
       "      <td>1</td>\n",
       "      <td>165127.911772</td>\n",
       "      <td>покупка жилой недвижимости</td>\n",
       "    </tr>\n",
       "    <tr>\n",
       "      <th>15</th>\n",
       "      <td>1</td>\n",
       "      <td>-972.364419</td>\n",
       "      <td>26</td>\n",
       "      <td>среднее</td>\n",
       "      <td>1</td>\n",
       "      <td>женат / замужем</td>\n",
       "      <td>0</td>\n",
       "      <td>F</td>\n",
       "      <td>сотрудник</td>\n",
       "      <td>0</td>\n",
       "      <td>116820.904450</td>\n",
       "      <td>строительство собственной недвижимости</td>\n",
       "    </tr>\n",
       "    <tr>\n",
       "      <th>16</th>\n",
       "      <td>0</td>\n",
       "      <td>-1719.934226</td>\n",
       "      <td>35</td>\n",
       "      <td>среднее</td>\n",
       "      <td>1</td>\n",
       "      <td>женат / замужем</td>\n",
       "      <td>0</td>\n",
       "      <td>F</td>\n",
       "      <td>сотрудник</td>\n",
       "      <td>0</td>\n",
       "      <td>289202.704229</td>\n",
       "      <td>недвижимость</td>\n",
       "    </tr>\n",
       "    <tr>\n",
       "      <th>17</th>\n",
       "      <td>0</td>\n",
       "      <td>-2369.999720</td>\n",
       "      <td>33</td>\n",
       "      <td>высшее</td>\n",
       "      <td>0</td>\n",
       "      <td>гражданский брак</td>\n",
       "      <td>1</td>\n",
       "      <td>M</td>\n",
       "      <td>сотрудник</td>\n",
       "      <td>0</td>\n",
       "      <td>90410.586745</td>\n",
       "      <td>строительство недвижимости</td>\n",
       "    </tr>\n",
       "    <tr>\n",
       "      <th>18</th>\n",
       "      <td>0</td>\n",
       "      <td>400281.136913</td>\n",
       "      <td>53</td>\n",
       "      <td>среднее</td>\n",
       "      <td>1</td>\n",
       "      <td>вдовец / вдова</td>\n",
       "      <td>2</td>\n",
       "      <td>F</td>\n",
       "      <td>пенсионер</td>\n",
       "      <td>0</td>\n",
       "      <td>56823.777243</td>\n",
       "      <td>на покупку подержанного автомобиля</td>\n",
       "    </tr>\n",
       "    <tr>\n",
       "      <th>19</th>\n",
       "      <td>0</td>\n",
       "      <td>-10038.818549</td>\n",
       "      <td>48</td>\n",
       "      <td>СРЕДНЕЕ</td>\n",
       "      <td>1</td>\n",
       "      <td>в разводе</td>\n",
       "      <td>3</td>\n",
       "      <td>F</td>\n",
       "      <td>сотрудник</td>\n",
       "      <td>0</td>\n",
       "      <td>242831.107982</td>\n",
       "      <td>на покупку своего автомобиля</td>\n",
       "    </tr>\n",
       "  </tbody>\n",
       "</table>\n",
       "</div>"
      ],
      "text/plain": [
       "    children  days_employed  dob_years            education  education_id  \\\n",
       "0          1   -8437.673028         42               высшее             0   \n",
       "1          1   -4024.803754         36              среднее             1   \n",
       "2          0   -5623.422610         33              Среднее             1   \n",
       "3          3   -4124.747207         32              среднее             1   \n",
       "4          0  340266.072047         53              среднее             1   \n",
       "5          0    -926.185831         27               высшее             0   \n",
       "6          0   -2879.202052         43               высшее             0   \n",
       "7          0    -152.779569         50              СРЕДНЕЕ             1   \n",
       "8          2   -6929.865299         35               ВЫСШЕЕ             0   \n",
       "9          0   -2188.756445         41              среднее             1   \n",
       "10         2   -4171.483647         36               высшее             0   \n",
       "11         0    -792.701887         40              среднее             1   \n",
       "12         0            NaN         65              среднее             1   \n",
       "13         0   -1846.641941         54  неоконченное высшее             2   \n",
       "14         0   -1844.956182         56               высшее             0   \n",
       "15         1    -972.364419         26              среднее             1   \n",
       "16         0   -1719.934226         35              среднее             1   \n",
       "17         0   -2369.999720         33               высшее             0   \n",
       "18         0  400281.136913         53              среднее             1   \n",
       "19         0  -10038.818549         48              СРЕДНЕЕ             1   \n",
       "\n",
       "       family_status  family_status_id gender income_type  debt  \\\n",
       "0    женат / замужем                 0      F   сотрудник     0   \n",
       "1    женат / замужем                 0      F   сотрудник     0   \n",
       "2    женат / замужем                 0      M   сотрудник     0   \n",
       "3    женат / замужем                 0      M   сотрудник     0   \n",
       "4   гражданский брак                 1      F   пенсионер     0   \n",
       "5   гражданский брак                 1      M   компаньон     0   \n",
       "6    женат / замужем                 0      F   компаньон     0   \n",
       "7    женат / замужем                 0      M   сотрудник     0   \n",
       "8   гражданский брак                 1      F   сотрудник     0   \n",
       "9    женат / замужем                 0      M   сотрудник     0   \n",
       "10   женат / замужем                 0      M   компаньон     0   \n",
       "11   женат / замужем                 0      F   сотрудник     0   \n",
       "12  гражданский брак                 1      M   пенсионер     0   \n",
       "13   женат / замужем                 0      F   сотрудник     0   \n",
       "14  гражданский брак                 1      F   компаньон     1   \n",
       "15   женат / замужем                 0      F   сотрудник     0   \n",
       "16   женат / замужем                 0      F   сотрудник     0   \n",
       "17  гражданский брак                 1      M   сотрудник     0   \n",
       "18    вдовец / вдова                 2      F   пенсионер     0   \n",
       "19         в разводе                 3      F   сотрудник     0   \n",
       "\n",
       "     total_income                                 purpose  \n",
       "0   253875.639453                           покупка жилья  \n",
       "1   112080.014102                 приобретение автомобиля  \n",
       "2   145885.952297                           покупка жилья  \n",
       "3   267628.550329              дополнительное образование  \n",
       "4   158616.077870                         сыграть свадьбу  \n",
       "5   255763.565419                           покупка жилья  \n",
       "6   240525.971920                       операции с жильем  \n",
       "7   135823.934197                             образование  \n",
       "8    95856.832424                   на проведение свадьбы  \n",
       "9   144425.938277                 покупка жилья для семьи  \n",
       "10  113943.491460                    покупка недвижимости  \n",
       "11   77069.234271       покупка коммерческой недвижимости  \n",
       "12            NaN                         сыграть свадьбу  \n",
       "13  130458.228857                 приобретение автомобиля  \n",
       "14  165127.911772              покупка жилой недвижимости  \n",
       "15  116820.904450  строительство собственной недвижимости  \n",
       "16  289202.704229                            недвижимость  \n",
       "17   90410.586745              строительство недвижимости  \n",
       "18   56823.777243      на покупку подержанного автомобиля  \n",
       "19  242831.107982            на покупку своего автомобиля  "
      ]
     },
     "execution_count": 2,
     "metadata": {},
     "output_type": "execute_result"
    }
   ],
   "source": [
    "data.head(20)"
   ]
  },
  {
   "cell_type": "markdown",
   "id": "6ddd53b8",
   "metadata": {
    "deletable": false,
    "editable": false,
    "id": "1c12e233"
   },
   "source": [
    "**Задание 3. Выведите основную информацию о датафрейме с помощью метода `info()`.**"
   ]
  },
  {
   "cell_type": "code",
   "execution_count": 3,
   "id": "2721be66",
   "metadata": {
    "deletable": false,
    "id": "2b757bca",
    "outputId": "15376089-8dad-46c9-b520-c05248d43158"
   },
   "outputs": [
    {
     "name": "stdout",
     "output_type": "stream",
     "text": [
      "<class 'pandas.core.frame.DataFrame'>\n",
      "RangeIndex: 21525 entries, 0 to 21524\n",
      "Data columns (total 12 columns):\n",
      " #   Column            Non-Null Count  Dtype  \n",
      "---  ------            --------------  -----  \n",
      " 0   children          21525 non-null  int64  \n",
      " 1   days_employed     19351 non-null  float64\n",
      " 2   dob_years         21525 non-null  int64  \n",
      " 3   education         21525 non-null  object \n",
      " 4   education_id      21525 non-null  int64  \n",
      " 5   family_status     21525 non-null  object \n",
      " 6   family_status_id  21525 non-null  int64  \n",
      " 7   gender            21525 non-null  object \n",
      " 8   income_type       21525 non-null  object \n",
      " 9   debt              21525 non-null  int64  \n",
      " 10  total_income      19351 non-null  float64\n",
      " 11  purpose           21525 non-null  object \n",
      "dtypes: float64(2), int64(5), object(5)\n",
      "memory usage: 2.0+ MB\n"
     ]
    }
   ],
   "source": [
    "data.info()"
   ]
  },
  {
   "cell_type": "markdown",
   "id": "ef1bda95",
   "metadata": {
    "deletable": false,
    "editable": false,
    "id": "333ec665"
   },
   "source": [
    "## Предобработка данных"
   ]
  },
  {
   "cell_type": "markdown",
   "id": "fbd1aed1",
   "metadata": {
    "deletable": false,
    "editable": false,
    "id": "02d92d53"
   },
   "source": [
    "### Удаление пропусков"
   ]
  },
  {
   "cell_type": "markdown",
   "id": "30aa13d6",
   "metadata": {
    "deletable": false,
    "editable": false,
    "id": "cd84967c"
   },
   "source": [
    "**Задание 4. Выведите количество пропущенных значений для каждого столбца. Используйте комбинацию двух методов.**"
   ]
  },
  {
   "cell_type": "code",
   "execution_count": 4,
   "id": "0bc6d213",
   "metadata": {
    "deletable": false,
    "id": "7f9b2309",
    "outputId": "81f4d817-781c-465c-ed15-91ce4446810d"
   },
   "outputs": [
    {
     "data": {
      "text/plain": [
       "children               0\n",
       "days_employed       2174\n",
       "dob_years              0\n",
       "education              0\n",
       "education_id           0\n",
       "family_status          0\n",
       "family_status_id       0\n",
       "gender                 0\n",
       "income_type            0\n",
       "debt                   0\n",
       "total_income        2174\n",
       "purpose                0\n",
       "dtype: int64"
      ]
     },
     "execution_count": 4,
     "metadata": {},
     "output_type": "execute_result"
    }
   ],
   "source": [
    "data.isna().sum()"
   ]
  },
  {
   "cell_type": "markdown",
   "id": "dc1b20f2",
   "metadata": {
    "deletable": false,
    "editable": false,
    "id": "db86e27b"
   },
   "source": [
    "**Задание 5. В двух столбцах есть пропущенные значения. Один из них — `days_employed`. Пропуски в этом столбце вы обработаете на следующем этапе. Другой столбец с пропущенными значениями — `total_income` — хранит данные о доходах. На сумму дохода сильнее всего влияет тип занятости, поэтому заполнить пропуски в этом столбце нужно медианным значением по каждому типу из столбца `income_type`. Например, у человека с типом занятости `сотрудник` пропуск в столбце `total_income` должен быть заполнен медианным доходом среди всех записей с тем же типом.**"
   ]
  },
  {
   "cell_type": "code",
   "execution_count": 5,
   "id": "04565696",
   "metadata": {
    "deletable": false,
    "id": "42006a93"
   },
   "outputs": [],
   "source": [
    "for t in data['income_type'].unique():\n",
    "    data.loc[(data['income_type'] == t) & (data['total_income'].isna()), 'total_income'] = \\\n",
    "    data.loc[(data['income_type'] == t), 'total_income'].median()"
   ]
  },
  {
   "cell_type": "markdown",
   "id": "8b5a375a",
   "metadata": {
    "deletable": false,
    "editable": false,
    "id": "89da5ece"
   },
   "source": [
    "### Обработка аномальных значений"
   ]
  },
  {
   "cell_type": "markdown",
   "id": "1d91ff2b",
   "metadata": {
    "deletable": false,
    "editable": false,
    "id": "57964554"
   },
   "source": [
    "**Задание 6. В данных могут встречаться артефакты (аномалии) — значения, которые не отражают действительность и появились по какой-то ошибке. таким артефактом будет отрицательное количество дней трудового стажа в столбце `days_employed`. Для реальных данных это нормально. Обработайте значения в этом столбце: замените все отрицательные значения положительными с помощью метода `abs()`.**"
   ]
  },
  {
   "cell_type": "code",
   "execution_count": 6,
   "id": "d09bb6b6",
   "metadata": {
    "deletable": false,
    "id": "f6f055bf"
   },
   "outputs": [],
   "source": [
    "data['days_employed'] = data['days_employed'].abs()"
   ]
  },
  {
   "cell_type": "markdown",
   "id": "e199f0be",
   "metadata": {
    "deletable": false,
    "editable": false,
    "id": "6107dd2f"
   },
   "source": [
    "**Задание 7. Для каждого типа занятости выведите медианное значение трудового стажа `days_employed` в днях.**"
   ]
  },
  {
   "cell_type": "code",
   "execution_count": 7,
   "id": "dc9bdde5",
   "metadata": {
    "deletable": false,
    "id": "85a5faf6",
    "outputId": "801ef80e-522b-4668-f34e-565af7432bcf"
   },
   "outputs": [
    {
     "data": {
      "text/plain": [
       "income_type\n",
       "безработный        366413.652744\n",
       "в декрете            3296.759962\n",
       "госслужащий          2689.368353\n",
       "компаньон            1547.382223\n",
       "пенсионер          365213.306266\n",
       "предприниматель       520.848083\n",
       "сотрудник            1574.202821\n",
       "студент               578.751554\n",
       "Name: days_employed, dtype: float64"
      ]
     },
     "execution_count": 7,
     "metadata": {},
     "output_type": "execute_result"
    }
   ],
   "source": [
    "data.groupby('income_type')['days_employed'].agg('median')"
   ]
  },
  {
   "cell_type": "markdown",
   "id": "55d6d690",
   "metadata": {
    "deletable": false,
    "editable": false,
    "id": "38d1a030"
   },
   "source": [
    "У двух типов (безработные и пенсионеры) получатся аномально большие значения. Исправить такие значения сложно, поэтому оставьте их как есть. Тем более этот столбец не понадобится вам для исследования."
   ]
  },
  {
   "cell_type": "markdown",
   "id": "9c61a99d",
   "metadata": {
    "deletable": false,
    "editable": false,
    "id": "d8a9f147"
   },
   "source": [
    "**Задание 8. Выведите перечень уникальных значений столбца `children`.**"
   ]
  },
  {
   "cell_type": "code",
   "execution_count": 8,
   "id": "be0dc41f",
   "metadata": {
    "deletable": false,
    "id": "ef5056eb",
    "outputId": "6975b15c-7f95-4697-d16d-a0c79b657b03"
   },
   "outputs": [
    {
     "data": {
      "text/plain": [
       "array([ 1,  0,  3,  2, -1,  4, 20,  5])"
      ]
     },
     "execution_count": 8,
     "metadata": {},
     "output_type": "execute_result"
    }
   ],
   "source": [
    "data['children'].unique()"
   ]
  },
  {
   "cell_type": "markdown",
   "id": "160ab90c",
   "metadata": {
    "deletable": false,
    "editable": false,
    "id": "40b9ebf2"
   },
   "source": [
    "**Задание 9. В столбце `children` есть два аномальных значения. Удалите строки, в которых встречаются такие аномальные значения из датафрейма `data`.**"
   ]
  },
  {
   "cell_type": "code",
   "execution_count": 9,
   "id": "29fd3a38",
   "metadata": {
    "deletable": false,
    "id": "3ff9801d"
   },
   "outputs": [],
   "source": [
    "data = data[(data['children'] != -1) & (data['children'] != 20)]"
   ]
  },
  {
   "cell_type": "markdown",
   "id": "0b8c0c8b",
   "metadata": {
    "deletable": false,
    "editable": false,
    "id": "bbc4d0ce"
   },
   "source": [
    "**Задание 10. Ещё раз выведите перечень уникальных значений столбца `children`, чтобы убедиться, что артефакты удалены.**"
   ]
  },
  {
   "cell_type": "code",
   "execution_count": 10,
   "id": "8a441b3d",
   "metadata": {
    "deletable": false,
    "id": "ad4fa8b7",
    "outputId": "b2097101-d49d-44d9-901b-32a65c9463d1"
   },
   "outputs": [
    {
     "data": {
      "text/plain": [
       "array([1, 0, 3, 2, 4, 5])"
      ]
     },
     "execution_count": 10,
     "metadata": {},
     "output_type": "execute_result"
    }
   ],
   "source": [
    "data['children'].unique()"
   ]
  },
  {
   "cell_type": "markdown",
   "id": "3eb5a2a0",
   "metadata": {
    "deletable": false,
    "editable": false,
    "id": "75440b63"
   },
   "source": [
    "### Удаление пропусков (продолжение)"
   ]
  },
  {
   "cell_type": "markdown",
   "id": "15267f14",
   "metadata": {
    "deletable": false,
    "editable": false,
    "id": "f4ea573f"
   },
   "source": [
    "**Задание 11. Заполните пропуски в столбце `days_employed` медианными значениями по каждого типа занятости `income_type`.**"
   ]
  },
  {
   "cell_type": "code",
   "execution_count": 11,
   "id": "e329b5e6",
   "metadata": {
    "deletable": false,
    "id": "af6b1a7e"
   },
   "outputs": [],
   "source": [
    "for t in data['income_type'].unique():\n",
    "    data.loc[(data['income_type'] == t) & (data['days_employed'].isna()), 'days_employed'] = \\\n",
    "    data.loc[(data['income_type'] == t), 'days_employed'].median()"
   ]
  },
  {
   "cell_type": "markdown",
   "id": "89b2e89a",
   "metadata": {
    "deletable": false,
    "editable": false,
    "id": "2753f40d"
   },
   "source": [
    "**Задание 12. Убедитесь, что все пропуски заполнены. Проверьте себя и ещё раз выведите количество пропущенных значений для каждого столбца с помощью двух методов.**"
   ]
  },
  {
   "cell_type": "code",
   "execution_count": 12,
   "id": "d0c0c346",
   "metadata": {
    "deletable": false,
    "id": "55f78bc2",
    "outputId": "8da1e4e1-358e-4e87-98c9-f261bce0a7b2"
   },
   "outputs": [
    {
     "data": {
      "text/plain": [
       "children            0\n",
       "days_employed       0\n",
       "dob_years           0\n",
       "education           0\n",
       "education_id        0\n",
       "family_status       0\n",
       "family_status_id    0\n",
       "gender              0\n",
       "income_type         0\n",
       "debt                0\n",
       "total_income        0\n",
       "purpose             0\n",
       "dtype: int64"
      ]
     },
     "execution_count": 12,
     "metadata": {},
     "output_type": "execute_result"
    }
   ],
   "source": [
    "data.isna().sum()"
   ]
  },
  {
   "cell_type": "markdown",
   "id": "82ab6707",
   "metadata": {
    "deletable": false,
    "editable": false,
    "id": "ddc81e43"
   },
   "source": [
    "### Изменение типов данных"
   ]
  },
  {
   "cell_type": "markdown",
   "id": "772f61c0",
   "metadata": {
    "deletable": false,
    "editable": false,
    "id": "42d19d24"
   },
   "source": [
    "**Задание 13. Замените вещественный тип данных в столбце `total_income` на целочисленный с помощью метода `astype()`.**"
   ]
  },
  {
   "cell_type": "code",
   "execution_count": 13,
   "id": "10394a27",
   "metadata": {
    "deletable": false,
    "id": "920b65ad"
   },
   "outputs": [],
   "source": [
    "data['total_income'] = data['total_income'].astype(int)"
   ]
  },
  {
   "cell_type": "markdown",
   "id": "4b364084",
   "metadata": {
    "deletable": false,
    "editable": false,
    "id": "80c420ba"
   },
   "source": [
    "### Обработка дубликатов"
   ]
  },
  {
   "cell_type": "markdown",
   "id": "9e7b4c1b",
   "metadata": {
    "deletable": false,
    "editable": false
   },
   "source": [
    "**Задание 14. Обработайте неявные дубликаты в столбце `education`. В этом столбце есть одни и те же значения, но записанные по-разному: с использованием заглавных и строчных букв. Приведите их к нижнему регистру. Проверьте остальные столбцы.**"
   ]
  },
  {
   "cell_type": "code",
   "execution_count": 14,
   "id": "de96dee9",
   "metadata": {
    "deletable": false
   },
   "outputs": [],
   "source": [
    "data['education'] = data['education'].str.lower()"
   ]
  },
  {
   "cell_type": "markdown",
   "id": "b2fd567e",
   "metadata": {
    "deletable": false,
    "editable": false,
    "id": "dc587695"
   },
   "source": [
    "**Задание 15. Выведите на экран количество строк-дубликатов в данных. Если такие строки присутствуют, удалите их.**"
   ]
  },
  {
   "cell_type": "code",
   "execution_count": 15,
   "id": "2175c8cc",
   "metadata": {
    "deletable": false,
    "id": "3ee445e4",
    "outputId": "9684deba-1934-42d1-99e1-cda61740f822"
   },
   "outputs": [
    {
     "data": {
      "text/plain": [
       "71"
      ]
     },
     "execution_count": 15,
     "metadata": {},
     "output_type": "execute_result"
    }
   ],
   "source": [
    "data.duplicated().sum()"
   ]
  },
  {
   "cell_type": "code",
   "execution_count": 16,
   "id": "d78e8202",
   "metadata": {
    "deletable": false,
    "id": "8575fe05"
   },
   "outputs": [],
   "source": [
    "data = data.drop_duplicates()"
   ]
  },
  {
   "cell_type": "markdown",
   "id": "1e2714b9",
   "metadata": {
    "deletable": false,
    "editable": false,
    "id": "9904cf55"
   },
   "source": [
    "### Категоризация данных"
   ]
  },
  {
   "cell_type": "markdown",
   "id": "34d8a087",
   "metadata": {
    "deletable": false,
    "editable": false,
    "id": "72fcc8a2"
   },
   "source": [
    "**Задание 16. На основании диапазонов, указанных ниже, создайте в датафрейме `data` столбец `total_income_category` с категориями:**\n",
    "\n",
    "- 0–30000 — `'E'`;\n",
    "- 30001–50000 — `'D'`;\n",
    "- 50001–200000 — `'C'`;\n",
    "- 200001–1000000 — `'B'`;\n",
    "- 1000001 и выше — `'A'`.\n",
    "\n",
    "\n",
    "**Например, кредитополучателю с доходом 25000 нужно назначить категорию `'E'`, а клиенту, получающему 235000, — `'B'`. Используйте собственную функцию с именем `categorize_income()` и метод `apply()`.**"
   ]
  },
  {
   "cell_type": "code",
   "execution_count": 17,
   "id": "ed0c9cf7",
   "metadata": {
    "deletable": false,
    "id": "e1771346"
   },
   "outputs": [],
   "source": [
    "def categorize_income(income):\n",
    "    try:\n",
    "        if 0 <= income <= 30000:\n",
    "            return 'E'\n",
    "        elif 30001 <= income <= 50000:\n",
    "            return 'D'\n",
    "        elif 50001 <= income <= 200000:\n",
    "            return 'C'\n",
    "        elif 200001 <= income <= 1000000:\n",
    "            return 'B'\n",
    "        elif income >= 1000001:\n",
    "            return 'A'\n",
    "    except:\n",
    "        pass"
   ]
  },
  {
   "cell_type": "code",
   "execution_count": 18,
   "id": "d2c783e5",
   "metadata": {
    "deletable": false,
    "id": "d5f3586d"
   },
   "outputs": [],
   "source": [
    "data['total_income_category'] = data['total_income'].apply(categorize_income)"
   ]
  },
  {
   "cell_type": "markdown",
   "id": "0cd86ca3",
   "metadata": {
    "deletable": false,
    "editable": false,
    "id": "dde49b5c"
   },
   "source": [
    "**Задание 17. Выведите на экран перечень уникальных целей взятия кредита из столбца `purpose`.**"
   ]
  },
  {
   "cell_type": "code",
   "execution_count": 19,
   "id": "f3865416",
   "metadata": {
    "deletable": false,
    "id": "f67ce9b3",
    "outputId": "673c12d9-7d7e-4ae0-9812-c622c89dd244"
   },
   "outputs": [
    {
     "data": {
      "text/plain": [
       "array(['покупка жилья', 'приобретение автомобиля',\n",
       "       'дополнительное образование', 'сыграть свадьбу',\n",
       "       'операции с жильем', 'образование', 'на проведение свадьбы',\n",
       "       'покупка жилья для семьи', 'покупка недвижимости',\n",
       "       'покупка коммерческой недвижимости', 'покупка жилой недвижимости',\n",
       "       'строительство собственной недвижимости', 'недвижимость',\n",
       "       'строительство недвижимости', 'на покупку подержанного автомобиля',\n",
       "       'на покупку своего автомобиля',\n",
       "       'операции с коммерческой недвижимостью',\n",
       "       'строительство жилой недвижимости', 'жилье',\n",
       "       'операции со своей недвижимостью', 'автомобили',\n",
       "       'заняться образованием', 'сделка с подержанным автомобилем',\n",
       "       'получение образования', 'автомобиль', 'свадьба',\n",
       "       'получение дополнительного образования', 'покупка своего жилья',\n",
       "       'операции с недвижимостью', 'получение высшего образования',\n",
       "       'свой автомобиль', 'сделка с автомобилем',\n",
       "       'профильное образование', 'высшее образование',\n",
       "       'покупка жилья для сдачи', 'на покупку автомобиля', 'ремонт жилью',\n",
       "       'заняться высшим образованием'], dtype=object)"
      ]
     },
     "execution_count": 19,
     "metadata": {},
     "output_type": "execute_result"
    }
   ],
   "source": [
    "data['purpose'].unique()"
   ]
  },
  {
   "cell_type": "markdown",
   "id": "a5b6adca",
   "metadata": {
    "deletable": false,
    "editable": false,
    "id": "85d0aef0"
   },
   "source": [
    "**Задание 18. Создайте функцию, которая на основании данных из столбца `purpose` сформирует новый столбец `purpose_category`, в который войдут следующие категории:**\n",
    "\n",
    "- `'операции с автомобилем'`,\n",
    "- `'операции с недвижимостью'`,\n",
    "- `'проведение свадьбы'`,\n",
    "- `'получение образования'`.\n",
    "\n",
    "**Например, если в столбце `purpose` находится подстрока `'на покупку автомобиля'`, то в столбце `purpose_category` должна появиться строка `'операции с автомобилем'`.**\n",
    "\n",
    "**Используйте собственную функцию с именем `categorize_purpose()` и метод `apply()`. Изучите данные в столбце `purpose` и определите, какие подстроки помогут вам правильно определить категорию.**"
   ]
  },
  {
   "cell_type": "code",
   "execution_count": 20,
   "id": "4aa6a1bc",
   "metadata": {
    "deletable": false,
    "id": "e149fab4"
   },
   "outputs": [],
   "source": [
    "def categorize_purpose(row):\n",
    "    try:\n",
    "        if 'автом' in row:\n",
    "            return 'операции с автомобилем'\n",
    "        elif 'жил' in row or 'недвиж' in row:\n",
    "            return 'операции с недвижимостью'\n",
    "        elif 'свад' in row:\n",
    "            return 'проведение свадьбы'\n",
    "        elif 'образов' in row:\n",
    "            return 'получение образования'\n",
    "    except:\n",
    "        return 'нет категории'"
   ]
  },
  {
   "cell_type": "code",
   "execution_count": 21,
   "id": "b31385d5",
   "metadata": {
    "deletable": false,
    "id": "bf36e69b"
   },
   "outputs": [],
   "source": [
    "data['purpose_category'] = data['purpose'].apply(categorize_purpose)"
   ]
  },
  {
   "cell_type": "markdown",
   "id": "bd08f694",
   "metadata": {
    "deletable": false,
    "editable": false,
    "id": "09b242bf"
   },
   "source": [
    "### Шаг 3. Исследуйте данные и ответьте на вопросы"
   ]
  },
  {
   "cell_type": "markdown",
   "id": "2bd1b4c3",
   "metadata": {
    "deletable": false,
    "editable": false,
    "id": "c5d66278"
   },
   "source": [
    "#### 3.1 Есть ли зависимость между количеством детей и возвратом кредита в срок?"
   ]
  },
  {
   "cell_type": "code",
   "execution_count": 22,
   "id": "a788fb23",
   "metadata": {
    "deletable": false,
    "id": "2cacfc4a"
   },
   "outputs": [
    {
     "name": "stdout",
     "output_type": "stream",
     "text": [
      "children\n",
      "0    0.075438\n",
      "1    0.092346\n",
      "2    0.094542\n",
      "3    0.081818\n",
      "4    0.097561\n",
      "5    0.000000\n",
      "Name: debt, dtype: float64\n"
     ]
    },
    {
     "data": {
      "image/png": "[encoded data removed]",
      "text/plain": [
       "<Figure size 432x288 with 1 Axes>"
      ]
     },
     "metadata": {
      "needs_background": "light"
     },
     "output_type": "display_data"
    }
   ],
   "source": [
    "debt_by_children = data.groupby(by='children')['debt'].sum()/data.groupby(by='children')['debt'].count()\n",
    "print(debt_by_children)\n",
    "import seaborn as sns\n",
    "import matplotlib as plt\n",
    "g = sns.barplot(data=data, x=\"children\", y=\"debt\")\n",
    "#plt.bar_label(g.containers[0]) - не задаеться подпись значений, версия matplotlib старая\n",
    "#print(plt.__version__)"
   ]
  },
  {
   "cell_type": "markdown",
   "id": "b2aabef0",
   "metadata": {
    "deletable": false,
    "id": "3a6b99ec"
   },
   "source": [
    "**Вывод:** \n",
    "<br>Самую малую долю задолженностей имеет группа клиентов без детей (0,075). \n",
    "<br>Наибольшая доля задолженностей у группы клиентов с четырьмя детьми (0,097).\n",
    "<br>Группа клиентов с пятью детьми показывает долю задолженностей равную 0, ориентируясь на группу клиентов с четырьмя детьми стоит сделать вывод о необъективности этих данных."
   ]
  },
  {
   "cell_type": "markdown",
   "id": "6ac5e7d3",
   "metadata": {
    "deletable": false,
    "editable": false,
    "id": "97be82ca"
   },
   "source": [
    "#### 3.2 Есть ли зависимость между семейным положением и возвратом кредита в срок?"
   ]
  },
  {
   "cell_type": "code",
   "execution_count": 23,
   "id": "c25ca6ce",
   "metadata": {
    "deletable": false,
    "id": "dc3f7ee8"
   },
   "outputs": [
    {
     "name": "stdout",
     "output_type": "stream",
     "text": [
      "family_status\n",
      "вдовец / вдова           0.066246\n",
      "в разводе                0.070648\n",
      "женат / замужем          0.075606\n",
      "гражданский брак         0.093130\n",
      "Не женат / не замужем    0.097639\n",
      "Name: debt, dtype: float64\n"
     ]
    },
    {
     "data": {
      "image/png": "[encoded data removed]",
      "text/plain": [
       "<Figure size 432x288 with 1 Axes>"
      ]
     },
     "metadata": {
      "needs_background": "light"
     },
     "output_type": "display_data"
    }
   ],
   "source": [
    "#xdebt_by_family_status_id = data.groupby(by='family_status_id')['debt'].sum()/data.groupby(by='family_status_id')['debt'].count()\n",
    "#print(xdebt_by_family_status_id)\n",
    "debt_by_family_status_id=data.groupby(by='family_status')['debt'].sum()/data.groupby(by='family_status')['debt'].count()\n",
    "print(debt_by_family_status_id.sort_values())\n",
    "p = sns.barplot(data=data,x='debt',y='family_status')"
   ]
  },
  {
   "cell_type": "markdown",
   "id": "f7c3d67b",
   "metadata": {
    "deletable": false,
    "id": "1cef7837"
   },
   "source": [
    "**Вывод:** <br>Самую малую долю задолженностей имеет группа клиентов семейным статусом \"вдовец / вдова\" (0,066). <br>\n",
    "Наибольшая доля задолженностей приходиться на группу клиентов с семейным статусом \"Не женат / не замужем\" (0,097)"
   ]
  },
  {
   "cell_type": "markdown",
   "id": "f84e50f5",
   "metadata": {
    "deletable": false,
    "editable": false,
    "id": "1e8b2fca"
   },
   "source": [
    "#### 3.3 Есть ли зависимость между уровнем дохода и возвратом кредита в срок?"
   ]
  },
  {
   "cell_type": "code",
   "execution_count": 24,
   "id": "1d8ce4da",
   "metadata": {
    "deletable": false,
    "id": "cd7e3720"
   },
   "outputs": [
    {
     "name": "stdout",
     "output_type": "stream",
     "text": [
      "total_income_category\n",
      "D    0.060172\n",
      "B    0.070602\n",
      "A    0.080000\n",
      "C    0.084982\n",
      "E    0.090909\n",
      "Name: debt, dtype: float64\n",
      "total_income_category\n",
      "A       25\n",
      "B     5014\n",
      "C    15921\n",
      "D      349\n",
      "E       22\n",
      "Name: debt, dtype: int64\n"
     ]
    },
    {
     "data": {
      "image/png": "[encoded data removed]",
      "text/plain": [
       "<Figure size 432x288 with 1 Axes>"
      ]
     },
     "metadata": {
      "needs_background": "light"
     },
     "output_type": "display_data"
    }
   ],
   "source": [
    "debt_by_total_income=data.groupby(by='total_income_category')['debt'].sum()/data.groupby(by='total_income_category')['debt'].count()\n",
    "print(debt_by_total_income.sort_values())\n",
    "print(data.groupby(by='total_income_category')['debt'].count())\n",
    "c = sns.barplot(data=data,x='debt',y='total_income_category')"
   ]
  },
  {
   "cell_type": "markdown",
   "id": "d56c56ca",
   "metadata": {
    "deletable": false,
    "id": "e8593def"
   },
   "source": [
    "**Вывод:** <br> Ранее клиенты были разделены на группы по уровню доходов:\n",
    "<center><br>0–30000 — 'E';\n",
    "<br>30001–50000 — 'D';\n",
    "<br>50001–200000 — 'C';\n",
    "<br>200001–1000000 — 'B';\n",
    "<br>1000001 и выше — 'A'. </center>\n",
    "Группы клиентов A и E имеет наименьшую выборку(25 и 22 соотведственно), стоит исключить их из расчетов во избежании ложного результата.</span style='color:blue'>\n",
    "<br>Самую малую долю задолженностей имеет группа клиентов с уровнем доходов D (30001-50000) - 0,060.\n",
    "Наибольшая доля задолженностей приходиться на группу клиентов с уровнем доходов C (50001-200000) - 0,085.\n"
   ]
  },
  {
   "cell_type": "markdown",
   "id": "280e1d65",
   "metadata": {
    "deletable": false,
    "editable": false,
    "id": "99ecbd1f"
   },
   "source": [
    "#### 3.4 Как разные цели кредита влияют на его возврат в срок?"
   ]
  },
  {
   "cell_type": "code",
   "execution_count": 25,
   "id": "44f2b6ef",
   "metadata": {
    "deletable": false,
    "id": "2b687290"
   },
   "outputs": [
    {
     "name": "stdout",
     "output_type": "stream",
     "text": [
      "purpose_category\n",
      "операции с недвижимостью    0.072551\n",
      "проведение свадьбы          0.079118\n",
      "получение образования       0.092528\n",
      "операции с автомобилем      0.093480\n",
      "Name: debt, dtype: float64\n"
     ]
    },
    {
     "data": {
      "image/png": "[encoded data removed]",
      "text/plain": [
       "<Figure size 432x288 with 1 Axes>"
      ]
     },
     "metadata": {
      "needs_background": "light"
     },
     "output_type": "display_data"
    }
   ],
   "source": [
    "debt_by_purpose_category=data.groupby(by='purpose_category')['debt'].sum()/data.groupby(by='purpose_category')['debt'].count()\n",
    "print(debt_by_purpose_category.sort_values())\n",
    "s = sns.barplot(data=data,x='debt',y='purpose_category')"
   ]
  },
  {
   "cell_type": "markdown",
   "id": "834a8187",
   "metadata": {
    "deletable": false,
    "id": "b4bb2ce6"
   },
   "source": [
    "**Вывод:**\n",
    "<br>Ранее цели кредитов были разделены на основные группы:\n",
    "<center><br>'операции с автомобилем',\n",
    "<br>'операции с недвижимостью',\n",
    "<br>'проведение свадьбы',\n",
    "<br>'получение образования'. </center>\n",
    "<br>Самую малую долю задолженностей имеет группа клиентов с целью кредита \"операции с недвижимостью\" - 0,072.\n",
    "<br>Наибольшая доля задолженностей приходиться на группу клиентов с целью кредита \"операции с автомобилем\" - 0,093."
   ]
  },
  {
   "cell_type": "markdown",
   "id": "59edd014",
   "metadata": {
    "deletable": false,
    "editable": false,
    "id": "09c3ac4c"
   },
   "source": [
    "#### 3.5 Приведите возможные причины появления пропусков в исходных данных."
   ]
  },
  {
   "cell_type": "markdown",
   "id": "5bf6cc44",
   "metadata": {
    "deletable": false,
    "id": "9da2ceda"
   },
   "source": [
    "*Ответ:* Причиной может быть - невнимательность при заполнении (человеческая ошибка), ошибка при сохранении, пересылке базы данных."
   ]
  },
  {
   "cell_type": "markdown",
   "id": "f9e8dfc6",
   "metadata": {
    "deletable": false,
    "editable": false,
    "id": "7b0487d6"
   },
   "source": [
    "#### 3.6 Объясните, почему заполнить пропуски медианным значением — лучшее решение для количественных переменных."
   ]
  },
  {
   "cell_type": "markdown",
   "id": "a1cdba81",
   "metadata": {
    "deletable": false,
    "id": "7ecf2b8e"
   },
   "source": [
    "*Ответ:* Медианное значение не дает изменения в общей картине, на нее не влияют шумы. Если данные подчиняются нормальному распределению, медианное значение будет средним."
   ]
  },
  {
   "cell_type": "markdown",
   "id": "a042a640",
   "metadata": {
    "deletable": false,
    "editable": false,
    "id": "6db5255a"
   },
   "source": [
    "### Шаг 4: общий вывод."
   ]
  },
  {
   "cell_type": "markdown",
   "id": "911fc583",
   "metadata": {
    "deletable": false,
    "id": "bad65432"
   },
   "source": [
    "<span style='color:blue'>Для кредитного отдела банка. </span>\n",
    "<br>Была проведена предобработка данных - удаление пропусков, обработка аномальных значений, изменение типов данных, удаление дубликатов и категоризация данных.\n",
    "<br>Было проведено исследование данных и сделаны соответствующие выводы:\n",
    "<br>-Самую малую долю задолженностей имеет группа клиентов без детей - 0,075.\n",
    "<br>-Самую малую долю задолженностей имеет группа клиентов семейным статусом \"вдовец / вдова\" - 0,066.\n",
    "<br>-Самую малую долю задолженностей имеет группа клиентов с уровнем доходов D (30001-50000) - 0,060.\n",
    "<br>-Самую малую долю задолженностей имеет группа клиентов с целью кредита \"операции с недвижимостью\" - 0,072.\n",
    "<br>-Наибольшая доля задолженностей у группы клиентов с четырьмя детьми - 0,097.\n",
    "<br>-Наибольшая доля задолженностей приходиться на группу клиентов с семейным статусом \"Не женат / не замужем\" - 0,097\n",
    "<br> <span style='color:blue'> -Наибольшая доля задолженностей приходиться на группу клиентов с уровнем доходов C (50001-200000) - 0,085. </span>\n",
    "<br>-Наибольшая доля задолженностей приходиться на группу клиентов с целью кредита \"операции с автомобилем\" - 0,093.\n",
    "\n",
    "<span style='color:blue'>Дополнительный комментарий: необходимо ввести систему \"обязательных полей\" при заполнении данных клиентов - это поможет избавиться от пропусков в базе данных</span> "
   ]
  }
 ],
 "metadata": {
  "ExecuteTimeLog": [
   {
    "duration": 1477,
    "start_time": "2022-11-25T10:28:17.857Z"
   },
   {
    "duration": 152,
    "start_time": "2022-11-25T10:28:30.211Z"
   },
   {
    "duration": 21,
    "start_time": "2022-11-25T10:28:32.093Z"
   },
   {
    "duration": 24,
    "start_time": "2022-11-25T10:28:33.940Z"
   },
   {
    "duration": 11,
    "start_time": "2022-11-25T10:28:35.041Z"
   },
   {
    "duration": 38,
    "start_time": "2022-11-25T10:28:36.232Z"
   },
   {
    "duration": 4,
    "start_time": "2022-11-25T10:28:37.273Z"
   },
   {
    "duration": 8,
    "start_time": "2022-11-25T10:28:38.185Z"
   },
   {
    "duration": 5,
    "start_time": "2022-11-25T10:28:39.689Z"
   },
   {
    "duration": 7,
    "start_time": "2022-11-25T10:28:40.677Z"
   },
   {
    "duration": 9,
    "start_time": "2022-11-25T10:28:42.117Z"
   },
   {
    "duration": 38,
    "start_time": "2022-11-25T10:28:43.001Z"
   },
   {
    "duration": 10,
    "start_time": "2022-11-25T10:28:43.940Z"
   },
   {
    "duration": 6,
    "start_time": "2022-11-25T10:28:45.738Z"
   },
   {
    "duration": 13,
    "start_time": "2022-11-25T10:28:47.353Z"
   },
   {
    "duration": 19,
    "start_time": "2022-11-25T10:28:47.793Z"
   },
   {
    "duration": 19,
    "start_time": "2022-11-25T10:28:48.652Z"
   },
   {
    "duration": 4,
    "start_time": "2022-11-25T10:28:50.201Z"
   },
   {
    "duration": 16,
    "start_time": "2022-11-25T10:28:51.237Z"
   },
   {
    "duration": 10,
    "start_time": "2022-11-25T10:28:52.022Z"
   },
   {
    "duration": 5,
    "start_time": "2022-11-25T10:28:53.229Z"
   },
   {
    "duration": 9,
    "start_time": "2022-11-25T10:28:54.853Z"
   },
   {
    "duration": 532,
    "start_time": "2022-11-25T10:28:56.110Z"
   },
   {
    "duration": 577,
    "start_time": "2022-11-25T10:29:38.769Z"
   },
   {
    "duration": 396,
    "start_time": "2022-11-25T10:31:37.451Z"
   },
   {
    "duration": 278,
    "start_time": "2022-11-25T10:32:01.889Z"
   },
   {
    "duration": 390,
    "start_time": "2022-11-25T10:32:30.988Z"
   },
   {
    "duration": 399,
    "start_time": "2022-11-25T10:33:54.873Z"
   },
   {
    "duration": 370,
    "start_time": "2022-11-25T10:34:04.246Z"
   },
   {
    "duration": 383,
    "start_time": "2022-11-25T10:34:21.810Z"
   },
   {
    "duration": 920,
    "start_time": "2022-11-25T10:35:00.508Z"
   },
   {
    "duration": 371,
    "start_time": "2022-11-25T10:35:05.984Z"
   },
   {
    "duration": 17,
    "start_time": "2022-11-25T10:37:58.193Z"
   },
   {
    "duration": 472,
    "start_time": "2022-11-25T10:38:04.485Z"
   },
   {
    "duration": 21,
    "start_time": "2022-11-25T10:40:06.785Z"
   },
   {
    "duration": 24,
    "start_time": "2022-11-25T10:40:11.143Z"
   },
   {
    "duration": 24,
    "start_time": "2022-11-25T10:40:14.632Z"
   },
   {
    "duration": 115,
    "start_time": "2022-11-25T10:40:17.785Z"
   },
   {
    "duration": 143,
    "start_time": "2022-11-25T10:40:33.886Z"
   },
   {
    "duration": 24,
    "start_time": "2022-11-25T10:40:49.908Z"
   },
   {
    "duration": 23,
    "start_time": "2022-11-25T10:40:56.119Z"
   },
   {
    "duration": 22,
    "start_time": "2022-11-25T10:41:03.516Z"
   },
   {
    "duration": 24,
    "start_time": "2022-11-25T10:41:06.966Z"
   },
   {
    "duration": 17,
    "start_time": "2022-11-25T10:41:13.549Z"
   },
   {
    "duration": 14,
    "start_time": "2022-11-25T10:41:24.379Z"
   },
   {
    "duration": 20,
    "start_time": "2022-11-25T10:41:28.600Z"
   },
   {
    "duration": 73,
    "start_time": "2022-11-25T10:43:00.971Z"
   },
   {
    "duration": 72,
    "start_time": "2022-11-25T10:43:06.497Z"
   },
   {
    "duration": 18,
    "start_time": "2022-11-25T10:43:08.847Z"
   },
   {
    "duration": 24,
    "start_time": "2022-11-25T10:43:15.959Z"
   },
   {
    "duration": 128,
    "start_time": "2022-11-25T10:43:20.097Z"
   },
   {
    "duration": 200,
    "start_time": "2022-11-25T10:44:06.532Z"
   },
   {
    "duration": 216,
    "start_time": "2022-11-25T10:49:22.968Z"
   },
   {
    "duration": 244,
    "start_time": "2022-11-25T10:50:01.608Z"
   },
   {
    "duration": 20,
    "start_time": "2022-11-25T10:50:25.065Z"
   },
   {
    "duration": 20,
    "start_time": "2022-11-25T10:51:00.937Z"
   },
   {
    "duration": 18,
    "start_time": "2022-11-25T10:51:06.786Z"
   },
   {
    "duration": 13,
    "start_time": "2022-11-25T10:51:09.994Z"
   },
   {
    "duration": 10,
    "start_time": "2022-11-25T10:51:25.256Z"
   },
   {
    "duration": 13,
    "start_time": "2022-11-25T10:55:53.843Z"
   },
   {
    "duration": 10,
    "start_time": "2022-11-25T10:55:57.664Z"
   },
   {
    "duration": 9,
    "start_time": "2022-11-25T10:56:03.403Z"
   },
   {
    "duration": 8,
    "start_time": "2022-11-25T10:56:14.549Z"
   },
   {
    "duration": 7,
    "start_time": "2022-11-25T10:56:18.848Z"
   },
   {
    "duration": 12,
    "start_time": "2022-11-25T10:57:57.234Z"
   },
   {
    "duration": 238,
    "start_time": "2022-11-25T10:58:18.405Z"
   },
   {
    "duration": 427,
    "start_time": "2022-11-25T10:58:26.681Z"
   },
   {
    "duration": 595,
    "start_time": "2022-11-25T11:01:41.206Z"
   },
   {
    "duration": 689,
    "start_time": "2022-11-25T11:01:54.647Z"
   },
   {
    "duration": 665,
    "start_time": "2022-11-25T11:03:20.045Z"
   },
   {
    "duration": 552,
    "start_time": "2022-11-25T11:03:49.522Z"
   },
   {
    "duration": 522,
    "start_time": "2022-11-25T11:06:38.777Z"
   },
   {
    "duration": 415,
    "start_time": "2022-11-25T11:06:42.370Z"
   },
   {
    "duration": 515,
    "start_time": "2022-11-25T11:06:45.176Z"
   },
   {
    "duration": 593,
    "start_time": "2022-11-25T11:07:13.558Z"
   },
   {
    "duration": 394,
    "start_time": "2022-11-25T11:11:15.752Z"
   },
   {
    "duration": 419,
    "start_time": "2022-11-25T11:11:28.683Z"
   },
   {
    "duration": 439,
    "start_time": "2022-11-25T11:11:36.099Z"
   },
   {
    "duration": 512,
    "start_time": "2022-11-25T11:11:44.136Z"
   },
   {
    "duration": 95,
    "start_time": "2022-11-25T11:11:57.277Z"
   },
   {
    "duration": 585,
    "start_time": "2022-11-25T11:12:00.588Z"
   },
   {
    "duration": 610,
    "start_time": "2022-11-25T11:13:17.042Z"
   },
   {
    "duration": 10,
    "start_time": "2022-11-25T11:28:43.204Z"
   },
   {
    "duration": 21,
    "start_time": "2022-11-25T11:30:06.344Z"
   },
   {
    "duration": 20,
    "start_time": "2022-11-25T11:31:42.366Z"
   },
   {
    "duration": 16,
    "start_time": "2022-11-25T11:31:53.480Z"
   },
   {
    "duration": 22,
    "start_time": "2022-11-25T11:31:59.066Z"
   },
   {
    "duration": 20,
    "start_time": "2022-11-25T11:32:18.403Z"
   },
   {
    "duration": 11,
    "start_time": "2022-11-25T11:32:30.383Z"
   },
   {
    "duration": 189,
    "start_time": "2022-11-25T11:33:07.434Z"
   },
   {
    "duration": 389,
    "start_time": "2022-11-25T11:33:35.514Z"
   },
   {
    "duration": 13,
    "start_time": "2022-11-25T11:39:27.501Z"
   },
   {
    "duration": 437,
    "start_time": "2022-11-25T11:39:56.261Z"
   },
   {
    "duration": 480,
    "start_time": "2022-11-25T11:40:15.410Z"
   },
   {
    "duration": 14,
    "start_time": "2022-11-25T11:51:41.045Z"
   },
   {
    "duration": 15,
    "start_time": "2022-11-25T11:51:48.704Z"
   },
   {
    "duration": 13,
    "start_time": "2022-11-25T11:51:59.042Z"
   },
   {
    "duration": 353,
    "start_time": "2022-11-25T11:52:26.514Z"
   },
   {
    "duration": 447,
    "start_time": "2022-11-25T11:53:22.493Z"
   },
   {
    "duration": 481,
    "start_time": "2022-11-25T11:53:36.885Z"
   },
   {
    "duration": 364,
    "start_time": "2022-11-25T11:54:05.437Z"
   },
   {
    "duration": 293,
    "start_time": "2022-11-25T11:54:26.975Z"
   },
   {
    "duration": 428,
    "start_time": "2022-11-25T11:54:38.931Z"
   },
   {
    "duration": 494,
    "start_time": "2022-11-25T19:36:42.350Z"
   },
   {
    "duration": 22,
    "start_time": "2022-11-25T19:36:42.846Z"
   },
   {
    "duration": 33,
    "start_time": "2022-11-25T19:36:42.869Z"
   },
   {
    "duration": 9,
    "start_time": "2022-11-25T19:36:42.904Z"
   },
   {
    "duration": 56,
    "start_time": "2022-11-25T19:36:42.915Z"
   },
   {
    "duration": 4,
    "start_time": "2022-11-25T19:36:42.973Z"
   },
   {
    "duration": 29,
    "start_time": "2022-11-25T19:36:42.978Z"
   },
   {
    "duration": 6,
    "start_time": "2022-11-25T19:36:43.009Z"
   },
   {
    "duration": 25,
    "start_time": "2022-11-25T19:36:43.016Z"
   },
   {
    "duration": 27,
    "start_time": "2022-11-25T19:36:43.042Z"
   },
   {
    "duration": 57,
    "start_time": "2022-11-25T19:36:43.071Z"
   },
   {
    "duration": 9,
    "start_time": "2022-11-25T19:36:43.130Z"
   },
   {
    "duration": 21,
    "start_time": "2022-11-25T19:36:43.140Z"
   },
   {
    "duration": 53,
    "start_time": "2022-11-25T19:36:43.163Z"
   },
   {
    "duration": 41,
    "start_time": "2022-11-25T19:36:43.217Z"
   },
   {
    "duration": 30,
    "start_time": "2022-11-25T19:36:43.260Z"
   },
   {
    "duration": 4,
    "start_time": "2022-11-25T19:36:43.292Z"
   },
   {
    "duration": 13,
    "start_time": "2022-11-25T19:36:43.297Z"
   },
   {
    "duration": 8,
    "start_time": "2022-11-25T19:36:43.311Z"
   },
   {
    "duration": 3,
    "start_time": "2022-11-25T19:36:43.321Z"
   },
   {
    "duration": 12,
    "start_time": "2022-11-25T19:36:43.326Z"
   },
   {
    "duration": 1265,
    "start_time": "2022-11-25T19:36:43.340Z"
   },
   {
    "duration": 667,
    "start_time": "2022-11-25T19:36:44.607Z"
   },
   {
    "duration": 357,
    "start_time": "2022-11-25T19:36:45.276Z"
   },
   {
    "duration": 348,
    "start_time": "2022-11-25T19:36:45.635Z"
   },
   {
    "duration": 58,
    "start_time": "2022-11-27T08:16:31.254Z"
   },
   {
    "duration": 7,
    "start_time": "2022-11-27T08:16:56.451Z"
   },
   {
    "duration": 481,
    "start_time": "2022-11-27T08:18:52.711Z"
   },
   {
    "duration": 18,
    "start_time": "2022-11-27T08:18:54.699Z"
   },
   {
    "duration": 16,
    "start_time": "2022-11-27T08:18:56.269Z"
   },
   {
    "duration": 36,
    "start_time": "2022-11-27T08:18:59.052Z"
   },
   {
    "duration": 5,
    "start_time": "2022-11-27T08:19:00.655Z"
   },
   {
    "duration": 11,
    "start_time": "2022-11-27T08:19:01.488Z"
   },
   {
    "duration": 6,
    "start_time": "2022-11-27T08:19:02.807Z"
   },
   {
    "duration": 9,
    "start_time": "2022-11-27T08:19:03.832Z"
   },
   {
    "duration": 6,
    "start_time": "2022-11-27T08:19:04.649Z"
   },
   {
    "duration": 44,
    "start_time": "2022-11-27T08:19:05.892Z"
   },
   {
    "duration": 10,
    "start_time": "2022-11-27T08:19:06.592Z"
   },
   {
    "duration": 12,
    "start_time": "2022-11-27T08:19:07.932Z"
   },
   {
    "duration": 18,
    "start_time": "2022-11-27T08:19:08.592Z"
   },
   {
    "duration": 19,
    "start_time": "2022-11-27T08:19:09.283Z"
   },
   {
    "duration": 3,
    "start_time": "2022-11-27T08:19:10.785Z"
   },
   {
    "duration": 13,
    "start_time": "2022-11-27T08:19:12.012Z"
   },
   {
    "duration": 7,
    "start_time": "2022-11-27T08:19:12.694Z"
   },
   {
    "duration": 4,
    "start_time": "2022-11-27T08:19:14.174Z"
   },
   {
    "duration": 1374,
    "start_time": "2022-11-27T08:19:15.810Z"
   },
   {
    "duration": 415,
    "start_time": "2022-11-27T08:19:18.838Z"
   },
   {
    "duration": 350,
    "start_time": "2022-11-27T08:19:21.362Z"
   },
   {
    "duration": 88,
    "start_time": "2022-11-27T08:28:40.083Z"
   },
   {
    "duration": 368,
    "start_time": "2022-11-27T08:29:02.493Z"
   },
   {
    "duration": 4,
    "start_time": "2022-11-27T08:29:07.303Z"
   },
   {
    "duration": 9,
    "start_time": "2022-11-27T08:29:08.403Z"
   },
   {
    "duration": 348,
    "start_time": "2022-11-27T08:29:11.036Z"
   },
   {
    "duration": 411,
    "start_time": "2022-11-27T09:25:05.453Z"
   },
   {
    "duration": 20,
    "start_time": "2022-11-27T09:25:05.866Z"
   },
   {
    "duration": 27,
    "start_time": "2022-11-27T09:25:05.888Z"
   },
   {
    "duration": 9,
    "start_time": "2022-11-27T09:25:05.918Z"
   },
   {
    "duration": 42,
    "start_time": "2022-11-27T09:25:05.928Z"
   },
   {
    "duration": 4,
    "start_time": "2022-11-27T09:25:05.971Z"
   },
   {
    "duration": 19,
    "start_time": "2022-11-27T09:25:05.977Z"
   },
   {
    "duration": 12,
    "start_time": "2022-11-27T09:25:05.997Z"
   },
   {
    "duration": 16,
    "start_time": "2022-11-27T09:25:06.010Z"
   },
   {
    "duration": 31,
    "start_time": "2022-11-27T09:25:06.030Z"
   },
   {
    "duration": 35,
    "start_time": "2022-11-27T09:25:06.062Z"
   },
   {
    "duration": 10,
    "start_time": "2022-11-27T09:25:06.098Z"
   },
   {
    "duration": 26,
    "start_time": "2022-11-27T09:25:06.110Z"
   },
   {
    "duration": 12,
    "start_time": "2022-11-27T09:25:06.138Z"
   },
   {
    "duration": 42,
    "start_time": "2022-11-27T09:25:06.151Z"
   },
   {
    "duration": 15,
    "start_time": "2022-11-27T09:25:06.195Z"
   },
   {
    "duration": 3,
    "start_time": "2022-11-27T09:25:06.212Z"
   },
   {
    "duration": 21,
    "start_time": "2022-11-27T09:25:06.216Z"
   },
   {
    "duration": 19,
    "start_time": "2022-11-27T09:25:06.238Z"
   },
   {
    "duration": 26,
    "start_time": "2022-11-27T09:25:06.258Z"
   },
   {
    "duration": 39,
    "start_time": "2022-11-27T09:25:06.286Z"
   },
   {
    "duration": 1066,
    "start_time": "2022-11-27T09:25:06.327Z"
   },
   {
    "duration": 322,
    "start_time": "2022-11-27T09:25:07.398Z"
   },
   {
    "duration": 306,
    "start_time": "2022-11-27T09:25:07.722Z"
   },
   {
    "duration": 297,
    "start_time": "2022-11-27T09:25:08.029Z"
   }
  ],
  "colab": {
   "name": "dpp_template_part2.ipynb",
   "provenance": []
  },
  "kernelspec": {
   "display_name": "Python 3 (ipykernel)",
   "language": "python",
   "name": "python3"
  },
  "language_info": {
   "codemirror_mode": {
    "name": "ipython",
    "version": 3
   },
   "file_extension": ".py",
   "mimetype": "text/x-python",
   "name": "python",
   "nbconvert_exporter": "python",
   "pygments_lexer": "ipython3",
   "version": "3.9.13"
  },
  "toc": {
   "base_numbering": 1,
   "nav_menu": {},
   "number_sections": true,
   "sideBar": true,
   "skip_h1_title": true,
   "title_cell": "Table of Contents",
   "title_sidebar": "Contents",
   "toc_cell": false,
   "toc_position": {},
   "toc_section_display": true,
   "toc_window_display": false
  }
 },
 "nbformat": 4,
 "nbformat_minor": 5
}
